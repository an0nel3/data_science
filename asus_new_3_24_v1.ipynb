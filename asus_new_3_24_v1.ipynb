{
 "metadata": {
  "name": ""
 },
 "nbformat": 3,
 "nbformat_minor": 0,
 "worksheets": [
  {
   "cells": [
    {
     "cell_type": "code",
     "collapsed": false,
     "input": [
      "%matplotlib inline\n",
      "import csv as csv\n",
      "import numpy as np\n",
      "import time,timeit\n",
      "from scipy.optimize import curve_fit\n",
      "import pandas as pd\n",
      "import matplotlib.pyplot as plt\n",
      "from pandas import ewma\n",
      "import matplotlib as mpl\n"
     ],
     "language": "python",
     "metadata": {},
     "outputs": [],
     "prompt_number": 2
    },
    {
     "cell_type": "code",
     "collapsed": false,
     "input": [
      "repairs_df = pd.read_csv('RepairTrain.csv')\n",
      "repairs = repairs_df[['module_category','component_category','year/month(repair)','number_repair']]\n",
      "repairs.columns =['mods','comp','ymr','repair']\n",
      "repairs['ym'] = pd.to_datetime(repairs.ymr)\n",
      "df = repairs.groupby(['mods','comp','ym']).sum()\n",
      "df = df.reset_index()\n",
      "mappings = pd.read_csv('Output_TargetID_Mapping.csv')\n",
      "mappings['ym'] = pd.to_datetime(mappings.year.astype(str) +\"/\" +mappings.month.astype(str))\n",
      "mappings.columns=['mods','comp','year','month','ym']\n",
      "maps = mappings[['mods','comp','ym']]\n",
      "#pd.DataFrame(g,index=range(1,4257)).to_csv('ewma_sub_3_22_v1.csv',index=True,index_label='id',header=['target'])\n",
      "MAPS = maps.copy()\n",
      "big_frame = pd.concat([df,maps])\n",
      "bf = big_frame.sort(['mods','comp','ym'])\n",
      "bf['preds'] = np.nan\n",
      "\n",
      "sf = pd.read_csv('SaleTrain.csv')\n",
      "sf.columns = ['mods','comp','ym','sale']\n",
      "sf.ym = pd.to_datetime(sf.ym)\n",
      "sframe =sf.groupby(['mods','comp','ym']).sum()\n",
      "sf = sframe.reset_index()"
     ],
     "language": "python",
     "metadata": {},
     "outputs": [],
     "prompt_number": 3
    },
    {
     "cell_type": "code",
     "collapsed": false,
     "input": [
      "def predictions(big_frame,spans=2):\n",
      "    g = big_frame.copy()\n",
      "    vals = []\n",
      "    x = g.shape[0]\n",
      "    g.index = range(x)\n",
      "    for i in xrange(x):\n",
      "        if np.isnan(g.ix[i].repair):\n",
      "            s = g.ix[i].ym - g.ix[i-1].ym\n",
      "            g.loc[i,'repair'] = np.exp(-.09*abs(s.days)/30)*g.ix[i-1].repair\n",
      "                    \n",
      "    for each_mod in g.mods.unique():\n",
      "        for each_comp in g[g.mods==each_mod].comp.unique():\n",
      "            the_frame = g[(g.mods==each_mod) & (g.comp==each_comp)][['ym','repair']]\n",
      "                                                             \n",
      "            ewma_values = pd.ewma(the_frame.repair,span=spans,adjust=False)\n",
      "           # print ewma_values\n",
      "            vals += list(ewma_values)\n",
      "    g.preds = np.array(vals)\n",
      "    \n",
      "    return g"
     ],
     "language": "python",
     "metadata": {},
     "outputs": [],
     "prompt_number": 76
    },
    {
     "cell_type": "code",
     "collapsed": false,
     "input": [
      "def plotter(g):\n",
      "    for each_mod in g.mods.unique():\n",
      "        for each_comp in g[g.mods==each_mod].comp.unique():\n",
      "            x = g[(g.mods==each_mod)& (g.comp==each_comp)]\n",
      "            plt.hold(True)\n",
      "            plt.plot(x.ym,x.repair.apply(np.log),'bo')\n",
      "            plt.plot(x.ym,x.preds.apply(np.log),'rx')\n",
      "            plt.xlabel('time')\n",
      "            plt.ylabel('repairs/preds')\n",
      "            plt.legend(['repairs','preds'],'upper right')\n",
      "            plt.title(\"%s and %s\" %(each_mod,each_comp))\n",
      "            plt.gcf().autofmt_xdate()\n",
      "            plt.show()"
     ],
     "language": "python",
     "metadata": {},
     "outputs": [],
     "prompt_number": 53
    },
    {
     "cell_type": "code",
     "collapsed": false,
     "input": [
      "x = predictions(bf,2)\n",
      "s = pd.merge(maps,x)\n",
      "g = s.preds.values #2700\n",
      "\n",
      "#s.preds.round().mean()\n",
      "#g=g.round().astype(int)\n",
      "#pd.DataFrame(g,index=range(1,4257)).to_csv('ewma_sub_3_23_v2_spanis2.csv',index=True,index_label='id',header=['target'])\n"
     ],
     "language": "python",
     "metadata": {},
     "outputs": [],
     "prompt_number": 77
    },
    {
     "cell_type": "code",
     "collapsed": false,
     "input": [
      "r = bf.merge(sf,on=['mods','comp','ym'])"
     ],
     "language": "python",
     "metadata": {},
     "outputs": [],
     "prompt_number": 25
    },
    {
     "cell_type": "code",
     "collapsed": false,
     "input": [
      "def plot_sales(g):\n",
      "    for each_mod in g.mods.unique():\n",
      "        for each_comp in g[g.mods==each_mod].comp.unique():\n",
      "            x = g[(g.mods==each_mod)& (g.comp==each_comp)]\n",
      "            plt.hold(True)\n",
      "            plt.plot(x.ym,x.repair,'bo',x.ym,x.sale,'rx')\n",
      "            #plt.plot(x.ym,x.preds,'rx')\n",
      "            plt.xlabel('time')\n",
      "            plt.ylabel('repairs/preds')\n",
      "            plt.legend(['repairs','preds'],'upper right')\n",
      "            plt.title(\"%s and %s\" %(each_mod,each_comp))\n",
      "            plt.gcf().autofmt_xdate()\n",
      "            plt.show()"
     ],
     "language": "python",
     "metadata": {},
     "outputs": [],
     "prompt_number": 30
    },
    {
     "cell_type": "code",
     "collapsed": false,
     "input": [
      "g[g<.8] = 0\n",
      "g=g.round().astype(int)"
     ],
     "language": "python",
     "metadata": {},
     "outputs": [],
     "prompt_number": 79
    },
    {
     "cell_type": "code",
     "collapsed": false,
     "input": [
      "pd.DataFrame(g,index=range(1,4257)).to_csv('ewma_sub_3_24_v2_spanis2.csv',index=True,index_label='id',header=['target'])\n"
     ],
     "language": "python",
     "metadata": {},
     "outputs": [],
     "prompt_number": 81
    },
    {
     "cell_type": "code",
     "collapsed": false,
     "input": [
      "g.mean()"
     ],
     "language": "python",
     "metadata": {},
     "outputs": [
      {
       "metadata": {},
       "output_type": "pyout",
       "prompt_number": 80,
       "text": [
        "6.0542763157894735"
       ]
      }
     ],
     "prompt_number": 80
    },
    {
     "cell_type": "code",
     "collapsed": false,
     "input": [
      "(g*.92).round().mean()"
     ],
     "language": "python",
     "metadata": {},
     "outputs": [
      {
       "metadata": {},
       "output_type": "pyout",
       "prompt_number": 85,
       "text": [
        "5.6141917293233083"
       ]
      }
     ],
     "prompt_number": 85
    },
    {
     "cell_type": "code",
     "collapsed": false,
     "input": [
      "g=(g*.92).round().astype(int)"
     ],
     "language": "python",
     "metadata": {},
     "outputs": [],
     "prompt_number": 87
    },
    {
     "cell_type": "code",
     "collapsed": false,
     "input": [
      "g"
     ],
     "language": "python",
     "metadata": {},
     "outputs": [
      {
       "metadata": {},
       "output_type": "pyout",
       "prompt_number": 88,
       "text": [
        "array([0, 0, 0, ..., 0, 0, 0])"
       ]
      }
     ],
     "prompt_number": 88
    },
    {
     "cell_type": "code",
     "collapsed": false,
     "input": [],
     "language": "python",
     "metadata": {},
     "outputs": []
    }
   ],
   "metadata": {}
  }
 ]
}