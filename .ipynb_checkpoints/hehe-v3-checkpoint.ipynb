{
 "metadata": {
  "name": ""
 },
 "nbformat": 3,
 "nbformat_minor": 0,
 "worksheets": [
  {
   "cells": [
    {
     "cell_type": "code",
     "collapsed": false,
     "input": [
      "%matplotlib inline\n",
      "import csv as csv\n",
      "import numpy as np\n",
      "import time,timeit\n",
      "from scipy.optimize import curve_fit\n",
      "import pandas as pd\n",
      "import matplotlib.pyplot as plt\n",
      "\n",
      "\n",
      "repairs = pd.read_csv('RepairTrain.csv')\n",
      "def month_and_years(df,column):\n",
      "    years = []\n",
      "    months = []\n",
      "    ym_sale = pd.to_datetime(df[column])\n",
      "    for each_tuple in ym_sale:\n",
      "        years.append(each_tuple.year)\n",
      "        months.append(each_tuple.month)\n",
      "    return years,months\n",
      "    \n",
      "year_repair,month_repair = month_and_years(repairs,\"year/month(repair)\")\n",
      "data_frame = repairs[['module_category','component_category','number_repair']]\n",
      "data_frame['year'] = year_repair\n",
      "data_frame['month'] = month_repair\n",
      "df       = data_frame.groupby(['module_category','component_category','year','month', \\\n",
      "                               ],as_index = False)\n",
      "df_mod   = df.sum()"
     ],
     "language": "python",
     "metadata": {},
     "outputs": [],
     "prompt_number": 30
    },
    {
     "cell_type": "code",
     "collapsed": false,
     "input": [
      "def modifys(dataframe,flag=0):\n",
      "    \"\"\"group by mod and by component if flag =0; the default\n",
      "    is to modify by each both!\"\"\"\n",
      "    dataframe['time'] = 12*(dataframe['year']-2008)+dataframe['month']\n",
      "    return dataframe\n",
      "        "
     ],
     "language": "python",
     "metadata": {},
     "outputs": [],
     "prompt_number": 2
    },
    {
     "cell_type": "code",
     "collapsed": false,
     "input": [
      "\n",
      "def modify(dataframe,flag=0):\n",
      "    \"\"\"group by mod and by component if flag =0; the default\n",
      "    is to modify by each both!\"\"\"\n",
      "    dataframe['time'] = 12*dataframe['year']+dataframe['month']\n",
      "    return dataframe\n",
      "df_mod=modify(df_mod)        \n",
      "df_mod"
     ],
     "language": "python",
     "metadata": {},
     "outputs": [
      {
       "html": [
        "<pre>\n",
        "&lt;class 'pandas.core.frame.DataFrame'&gt;\n",
        "Int64Index: 7815 entries, 0 to 7814\n",
        "Data columns (total 6 columns):\n",
        "module_category       7815  non-null values\n",
        "component_category    7815  non-null values\n",
        "year                  7815  non-null values\n",
        "month                 7815  non-null values\n",
        "number_repair         7815  non-null values\n",
        "time                  7815  non-null values\n",
        "dtypes: int64(4), object(2)\n",
        "</pre>"
       ],
       "metadata": {},
       "output_type": "pyout",
       "prompt_number": 3,
       "text": [
        "<class 'pandas.core.frame.DataFrame'>\n",
        "Int64Index: 7815 entries, 0 to 7814\n",
        "Data columns (total 6 columns):\n",
        "module_category       7815  non-null values\n",
        "component_category    7815  non-null values\n",
        "year                  7815  non-null values\n",
        "month                 7815  non-null values\n",
        "number_repair         7815  non-null values\n",
        "time                  7815  non-null values\n",
        "dtypes: int64(4), object(2)"
       ]
      }
     ],
     "prompt_number": 3
    },
    {
     "cell_type": "code",
     "collapsed": false,
     "input": [
      "x = df_mod[(df_mod['module_category']=='M1') & (df_mod['component_category']=='P10')]\n",
      "x.groupby('months').size()"
     ],
     "language": "python",
     "metadata": {},
     "outputs": [
      {
       "metadata": {},
       "output_type": "pyout",
       "prompt_number": 4,
       "text": [
        "months    1\n",
        "dtype: int64"
       ]
      }
     ],
     "prompt_number": 4
    },
    {
     "cell_type": "code",
     "collapsed": false,
     "input": [
      "p0 = [1., 0., 1.]    \n",
      "def gauss(x, *p):\n",
      "    A, mu, sigma = p\n",
      "    return A*np.exp(-(x-mu)**2/(2.*sigma**2))\n",
      "\n",
      "\n",
      "def model_returner(train):    \n",
      "    models = {}\n",
      "    bad_models ={}\n",
      "    mods = train['module_category'].unique()\n",
      "    for each_mod in mods:\n",
      "        cats = train[train['module_category']==each_mod]['component_category'].unique()\n",
      "        for each_cat in cats:\n",
      "            new_data = train[(train['module_category']==each_mod) \\\n",
      "                    & (train['component_category']==each_cat)]\n",
      "            if new_data.shape[0] <= 3:\n",
      "                \n",
      "                bad_models[(each_mod,each_cat)] = [1,1,1]\n",
      "                #print each_mod,each_cat, \"let's adjust this\"\n",
      "            else:\n",
      "                try:\n",
      "                    coeff, var_matrix = curve_fit(gauss, np.array(new_data['time']),\\\n",
      "                            np.array(new_data['number_repair']), p0=p0)\n",
      "                    models[(each_mod,each_cat)] = coeff\n",
      "                except RuntimeError:\n",
      "                    \n",
      "                    bad_models[(each_mod,each_cat)] = [each_mod,each_cat]\n",
      "                    #print each_mod,each_cat, \"let's adjust this because no good fit found\"\n",
      "            \n",
      "            #print each_mod,each_cat\n",
      "    return models,bad_models\n",
      "\n",
      "    "
     ],
     "language": "python",
     "metadata": {},
     "outputs": [],
     "prompt_number": 5
    },
    {
     "cell_type": "code",
     "collapsed": false,
     "input": [
      "df_mod2 = df.sum()\n",
      "df_mod2 = modifys(df_mod2)\n",
      "##use modifys\n",
      "#df_mod2[(df_mod2['module_category']=='M1') & (df_mod2['component_category']=='P02')].shape\n",
      "#df_mod2[(df_mod2['module_category']=='M1') & (df_mod2['component_category']=='P10')].shape"
     ],
     "language": "python",
     "metadata": {},
     "outputs": [],
     "prompt_number": 6
    },
    {
     "cell_type": "code",
     "collapsed": false,
     "input": [
      "my_models = model_returner(df_mod2)"
     ],
     "language": "python",
     "metadata": {},
     "outputs": [],
     "prompt_number": 7
    },
    {
     "cell_type": "code",
     "collapsed": false,
     "input": [
      "g = df_mod2[(df_mod2['module_category']=='M2') & (df_mod2['component_category']=='P27')]\n",
      "#plt.plot(g['time'],g['number_repair'])\n",
      "#plt.show()"
     ],
     "language": "python",
     "metadata": {},
     "outputs": [],
     "prompt_number": 48
    },
    {
     "cell_type": "code",
     "collapsed": false,
     "input": [
      "mapper2 = pd.read_csv('Output_TargetID_Mapping.csv')\n"
     ],
     "language": "python",
     "metadata": {},
     "outputs": [],
     "prompt_number": 9
    },
    {
     "cell_type": "code",
     "collapsed": false,
     "input": [
      "gg = df_mod2[(df_mod2['module_category']=='M4') & (df_mod2['component_category']=='P04')]"
     ],
     "language": "python",
     "metadata": {},
     "outputs": [],
     "prompt_number": 10
    },
    {
     "cell_type": "code",
     "collapsed": false,
     "input": [
      "mapper2=modifys(mapper2)"
     ],
     "language": "python",
     "metadata": {},
     "outputs": [],
     "prompt_number": 11
    },
    {
     "cell_type": "code",
     "collapsed": false,
     "input": [
      "key = my_models[0][('M4','P04')]\n",
      "x1,x2,x3=key\n",
      "#gg['predictions'] = x1*np.exp(-(gg['time'] - x2)**2/(2.*x3**2))\n",
      "#gg['predictions'].round()"
     ],
     "language": "python",
     "metadata": {},
     "outputs": [],
     "prompt_number": 12
    },
    {
     "cell_type": "code",
     "collapsed": false,
     "input": [
      "def predictions(dataframe,models):\n",
      "    \"\"\"we assume model has been trained; \n",
      "    we also assume that the mapper has been under modifys\"\"\"\n",
      "    #mods = dataframe['module_category'].unique()\n",
      "    values =dataframe.values\n",
      "    preds = np.ones(values.shape[0])\n",
      "    for i in xrange(values.shape[0]):\n",
      "        mod = values[i,0]\n",
      "        cat = values[i,1]\n",
      "        key = (mod,cat)\n",
      "        #print key\n",
      "        #key in models[0]\n",
      "        if key in models[0]:\n",
      "            A,mu,sigma = models[0][key]\n",
      "            if A<25 and A>15:\n",
      "                #print A,sigma\n",
      "                if abs(sigma) < 5:\n",
      "                    sigma = 5\n",
      "            #if A>100:\n",
      "            #    sigma=sigma*1.3\n",
      "            #sigma = 1.4*sigma\n",
      "            #print 'hi'\n",
      "            \n",
      "            preds[i]=A*np.exp(-((values[i,-1]-mu)**2/(2.*sigma**2)))\n",
      "            #print preds\n",
      "        \n",
      "    return preds\n",
      "    \"\"\"\n",
      "    #for each_mod in mods:\n",
      "    #    cats = dataframe[dataframe['module_category']==each_mod]['component_category'].unique()\n",
      "    #    for each_cat in cats:\n",
      "    #        key =(each_mod,each_cat)\n",
      "    #        if key in models[0]:\n",
      "                A,mu,sigma = models[0][key]\n",
      "                \n",
      "                #A*np.exp(-(x-mu)**2/(2.*sigma**2))\n",
      "                #dataframe[(dataframe['module_category']==each_mod) \\\n",
      "                 #   & (dataframe['component_category']==each_cat)]['predictions'] = \\\n",
      "                #dataframe[(dataframe['module_category']==each_mod) \n",
      "                #          & (dataframe['component_category']==each_cat)]['predictions']= \\\n",
      "                x = A*np.exp(-(dataframe[(dataframe['module_category']==each_mod) \n",
      "                    & (dataframe['component_category']==each_cat)]['time'] - mu)**2/(2.*sigma**2))\n",
      "                print x\n",
      "                dataframe[(dataframe['module_category']==each_mod) & (dataframe['component_category']==each_cat)] = x\n",
      "                \n",
      "    dataframe['predictions']=dataframe['predictions'].round()\n",
      "    return dataframe\"\"\"\n",
      "                "
     ],
     "language": "python",
     "metadata": {},
     "outputs": [],
     "prompt_number": 132
    },
    {
     "cell_type": "code",
     "collapsed": false,
     "input": [
      "def plot_good(models,dataframe):\n",
      "    \"\"\"use for only good models\"\"\"\n",
      "    for key in models[0]:\n",
      "        g=dataframe[(dataframe['module_category']==key[0]) & \\\n",
      "        (dataframe['component_category']==key[1])]\n",
      "        plt.scatter(g['time'],g['number_repair'],c =np.random.rand(3,1))\n",
      "        plt.xlabel(\"Time\")\n",
      "        plt.ylabel(\"number of repairs\")\n",
      "        plt.title(\"%s, and %s\" %(key[0], key[1]))\n",
      "        plt.show()\n",
      "    for key in models[1]:\n",
      "        g=dataframe[(dataframe['module_category']==key[0]) & \\\n",
      "        (dataframe['component_category']==key[1])]\n",
      "        plt.scatter(g['time'],g['number_repair'],c =np.random.rand(3,1))\n",
      "        plt.xlabel(\"Time\")\n",
      "        plt.ylabel(\"number of repairs\")\n",
      "        plt.title(\"Bad ones: %s, and %s\" %(key[0], key[1]))\n",
      "        plt.show()\n",
      "#plot_good(my_models,df_mod2)\n",
      "#def plot_good(models,dataframe"
     ],
     "language": "python",
     "metadata": {},
     "outputs": [],
     "prompt_number": 120
    },
    {
     "cell_type": "code",
     "collapsed": false,
     "input": [
      "key = ('M1','P04')\n",
      "ggg = my_models[0][key]"
     ],
     "language": "python",
     "metadata": {},
     "outputs": [],
     "prompt_number": 70
    },
    {
     "cell_type": "code",
     "collapsed": false,
     "input": [
      "g = df_mod2[(df_mod2['module_category']=='M1') & \\\n",
      "        (df_mod2['component_category']=='P04')]\n",
      "#plt.plot(gg['time'],gg['number_repair'],label = 'test data')\n"
     ],
     "language": "python",
     "metadata": {},
     "outputs": [],
     "prompt_number": 121
    },
    {
     "cell_type": "code",
     "collapsed": false,
     "input": [],
     "language": "python",
     "metadata": {},
     "outputs": [],
     "prompt_number": 62
    },
    {
     "cell_type": "code",
     "collapsed": false,
     "input": [
      "preds2 = predictions(mapper2,my_models)\n",
      "preds2[(preds2 >.15) & (preds2 <.5)] =1\n",
      "preds=preds.round()\n",
      "preds = preds.astype(int)"
     ],
     "language": "python",
     "metadata": {},
     "outputs": [],
     "prompt_number": 148
    },
    {
     "cell_type": "code",
     "collapsed": false,
     "input": [
      "mapper2.to_csv('sub_mod.csv')"
     ],
     "language": "python",
     "metadata": {},
     "outputs": [],
     "prompt_number": 104
    },
    {
     "cell_type": "code",
     "collapsed": false,
     "input": [
      "df_mod2.to_csv('mod_data.csv')"
     ],
     "language": "python",
     "metadata": {},
     "outputs": [],
     "prompt_number": 106
    },
    {
     "cell_type": "code",
     "collapsed": false,
     "input": [
      "answers = pd.DataFrame(preds,columns=['target'])"
     ],
     "language": "python",
     "metadata": {},
     "outputs": [],
     "prompt_number": 145
    },
    {
     "cell_type": "code",
     "collapsed": false,
     "input": [
      "answers.to_csv('yays.csv',header=True,sep=',')"
     ],
     "language": "python",
     "metadata": {},
     "outputs": [],
     "prompt_number": 146
    },
    {
     "cell_type": "code",
     "collapsed": false,
     "input": [
      "preds.mean()"
     ],
     "language": "python",
     "metadata": {},
     "outputs": [
      {
       "metadata": {},
       "output_type": "pyout",
       "prompt_number": 149,
       "text": [
        "4.8898026315789478"
       ]
      }
     ],
     "prompt_number": 149
    },
    {
     "cell_type": "code",
     "collapsed": false,
     "input": [
      "preds2.mean()"
     ],
     "language": "python",
     "metadata": {},
     "outputs": [
      {
       "metadata": {},
       "output_type": "pyout",
       "prompt_number": 150,
       "text": [
        "4.9304109139686192"
       ]
      }
     ],
     "prompt_number": 150
    },
    {
     "cell_type": "code",
     "collapsed": false,
     "input": [
      "preds2 = preds2.round()"
     ],
     "language": "python",
     "metadata": {},
     "outputs": [],
     "prompt_number": 152
    },
    {
     "cell_type": "code",
     "collapsed": false,
     "input": [
      "preds2=preds2.astype(int)\n"
     ],
     "language": "python",
     "metadata": {},
     "outputs": [],
     "prompt_number": 153
    },
    {
     "cell_type": "code",
     "collapsed": false,
     "input": [
      "preds2.mean()"
     ],
     "language": "python",
     "metadata": {},
     "outputs": [
      {
       "metadata": {},
       "output_type": "pyout",
       "prompt_number": 154,
       "text": [
        "4.9278665413533833"
       ]
      }
     ],
     "prompt_number": 154
    },
    {
     "cell_type": "code",
     "collapsed": false,
     "input": [
      "answers2 = pd.DataFrame(preds2,columns=['target'])"
     ],
     "language": "python",
     "metadata": {},
     "outputs": [],
     "prompt_number": 156
    },
    {
     "cell_type": "code",
     "collapsed": false,
     "input": [
      "answers2.to_csv('yays2.csv',index=False,header=True,sep=',')"
     ],
     "language": "python",
     "metadata": {},
     "outputs": [],
     "prompt_number": 157
    },
    {
     "cell_type": "code",
     "collapsed": false,
     "input": [],
     "language": "python",
     "metadata": {},
     "outputs": []
    }
   ],
   "metadata": {}
  }
 ]
}