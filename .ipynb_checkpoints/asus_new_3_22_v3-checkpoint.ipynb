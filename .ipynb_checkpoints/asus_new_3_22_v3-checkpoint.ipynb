{
 "metadata": {
  "name": ""
 },
 "nbformat": 3,
 "nbformat_minor": 0,
 "worksheets": [
  {
   "cells": [
    {
     "cell_type": "code",
     "collapsed": false,
     "input": [
      "%matplotlib inline\n",
      "import csv as csv\n",
      "import numpy as np\n",
      "import time,timeit\n",
      "from scipy.optimize import curve_fit\n",
      "import pandas as pd\n",
      "import matplotlib.pyplot as plt\n",
      "from pandas import ewma\n",
      "import matplotlib as mpl\n"
     ],
     "language": "python",
     "metadata": {},
     "outputs": [],
     "prompt_number": 2
    },
    {
     "cell_type": "code",
     "collapsed": false,
     "input": [
      "repairs_df = pd.read_csv('RepairTrain.csv')\n",
      "repairs = repairs_df[['module_category','component_category','year/month(repair)','number_repair']]\n",
      "repairs.columns =['mods','comp','ymr','repair']\n",
      "repairs['ym'] = pd.to_datetime(repairs.ymr)\n",
      "df = repairs.groupby(['mods','comp','ym']).sum()\n",
      "df = df.reset_index()\n",
      "mappings = pd.read_csv('Output_TargetID_Mapping.csv')\n",
      "mappings['ym'] = pd.to_datetime(mappings.year.astype(str) +\"/\" +mappings.month.astype(str))\n",
      "mappings.columns=['mods','comp','year','month','ym']\n",
      "maps = mappings[['mods','comp','ym']]\n",
      "#pd.DataFrame(g,index=range(1,4257)).to_csv('ewma_sub_3_22_v1.csv',index=True,index_label='id',header=['target'])\n",
      "MAPS = maps.copy()\n",
      "big_frame = pd.concat([df,maps])\n",
      "bf = big_frame.sort(['mods','comp','ym'])\n",
      "bf['preds'] = np.nan"
     ],
     "language": "python",
     "metadata": {},
     "outputs": [],
     "prompt_number": 3
    },
    {
     "cell_type": "code",
     "collapsed": false,
     "input": [
      "def predictions(big_frame,spans=2):\n",
      "    g = big_frame.copy()\n",
      "    vals = []\n",
      "    x = g.shape[0]\n",
      "    g.index = range(x)\n",
      "    for i in xrange(x):\n",
      "        if np.isnan(g.ix[i].repair):\n",
      "            s = g.ix[i].ym - g.ix[i-1].ym\n",
      "            g.loc[i,'repair'] = np.exp(-.1*abs(s.days)/30)*g.ix[i-1].repair\n",
      "                    \n",
      "    for each_mod in g.mods.unique():\n",
      "        for each_comp in g[g.mods==each_mod].comp.unique():\n",
      "            the_frame = g[(g.mods==each_mod) & (g.comp==each_comp)][['ym','repair']]\n",
      "                                                             \n",
      "            ewma_values = pd.ewma(the_frame.repair,span=spans,adjust=False)\n",
      "           # print ewma_values\n",
      "            vals += list(ewma_values)\n",
      "    g.preds = np.array(vals)\n",
      "    \n",
      "    return g"
     ],
     "language": "python",
     "metadata": {},
     "outputs": [],
     "prompt_number": 4
    },
    {
     "cell_type": "code",
     "collapsed": false,
     "input": [
      "def plotter(g):\n",
      "    for each_mod in g.mods.unique():\n",
      "        for each_comp in g[g.mods==each_mod].comp.unique():\n",
      "            x = g[(g.mods==each_mod)& (g.comp==each_comp)]\n",
      "            plt.hold(True)\n",
      "            plt.plot(x.ym,x.repair,'bo')\n",
      "            plt.plot(x.ym,x.preds,'rx')\n",
      "            plt.xlabel('time')\n",
      "            plt.ylabel('repairs/preds')\n",
      "            plt.legend(['repairs','preds'],'upper right')\n",
      "            plt.title(\"%s and %s\" %(each_mod,each_comp))\n",
      "            plt.gcf().autofmt_xdate()\n",
      "            plt.show()"
     ],
     "language": "python",
     "metadata": {},
     "outputs": [],
     "prompt_number": 5
    },
    {
     "cell_type": "code",
     "collapsed": false,
     "input": [
      "two = maps.merge(x)"
     ],
     "language": "python",
     "metadata": {},
     "outputs": [],
     "prompt_number": 93
    },
    {
     "cell_type": "code",
     "collapsed": false,
     "input": [
      "(two.preds*.9).round().mean()"
     ],
     "language": "python",
     "metadata": {},
     "outputs": [
      {
       "metadata": {},
       "output_type": "pyout",
       "prompt_number": 99,
       "text": [
        "5.7128759398496243"
       ]
      }
     ],
     "prompt_number": 99
    },
    {
     "cell_type": "code",
     "collapsed": false,
     "input": [
      "r = np.array((two.preds*.9).round().astype(int))"
     ],
     "language": "python",
     "metadata": {},
     "outputs": [],
     "prompt_number": 110
    },
    {
     "cell_type": "code",
     "collapsed": false,
     "input": [
      "pd.DataFrame(r,index=range(1,4257)).to_csv('ewma_sub_3_22_v3.csv',index=True,index_label='id',header=['target'])\n"
     ],
     "language": "python",
     "metadata": {},
     "outputs": [],
     "prompt_number": 113
    },
    {
     "cell_type": "code",
     "collapsed": false,
     "input": [
      "r"
     ],
     "language": "python",
     "metadata": {},
     "outputs": [
      {
       "metadata": {},
       "output_type": "pyout",
       "prompt_number": 112,
       "text": [
        "array([1, 1, 0, ..., 0, 0, 0])"
       ]
      }
     ],
     "prompt_number": 112
    },
    {
     "cell_type": "code",
     "collapsed": false,
     "input": [],
     "language": "python",
     "metadata": {},
     "outputs": []
    }
   ],
   "metadata": {}
  }
 ]
}