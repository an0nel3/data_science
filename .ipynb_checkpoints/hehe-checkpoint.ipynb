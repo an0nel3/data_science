{
 "metadata": {
  "name": ""
 },
 "nbformat": 3,
 "nbformat_minor": 0,
 "worksheets": [
  {
   "cells": [
    {
     "cell_type": "code",
     "collapsed": false,
     "input": [
      "import csv as csv\n",
      "import numpy as np\n",
      "import time,timeit\n",
      "from scipy.optimize import curve_fit\n",
      "import pandas as pd\n",
      "import matplotlib.pyplot as plt\n",
      "\n",
      "\n",
      "repairs = pd.read_csv('RepairTrain.csv')\n",
      "def month_and_years(df,column):\n",
      "    years = []\n",
      "    months = []\n",
      "    ym_sale = pd.to_datetime(df[column])\n",
      "    for each_tuple in ym_sale:\n",
      "        years.append(each_tuple.year)\n",
      "        months.append(each_tuple.month)\n",
      "    return years,months\n",
      "    \n",
      "year_repair,month_repair = month_and_years(repairs,\"year/month(repair)\")\n",
      "data_frame = repairs[['module_category','component_category','number_repair']]\n",
      "data_frame['year'] = year_repair\n",
      "data_frame['month'] = month_repair\n",
      "df       = data_frame.groupby(['module_category','component_category','year','month', \\\n",
      "                               ],as_index = False)\n",
      "df_mod   = df.sum()"
     ],
     "language": "python",
     "metadata": {},
     "outputs": [],
     "prompt_number": 3
    },
    {
     "cell_type": "code",
     "collapsed": false,
     "input": [
      "def modifys(dataframe,flag=0):\n",
      "    \"\"\"group by mod and by component if flag =0; the default\n",
      "    is to modify by each both!\"\"\"\n",
      "    dataframe['time'] = 12*(dataframe['year']-2008)+dataframe['month']\n",
      "    return dataframe\n",
      "        "
     ],
     "language": "python",
     "metadata": {},
     "outputs": [],
     "prompt_number": 53
    },
    {
     "cell_type": "code",
     "collapsed": false,
     "input": [
      "def modify(dataframe,flag=0):\n",
      "    \"\"\"group by mod and by component if flag =0; the default\n",
      "    is to modify by each both!\"\"\"\n",
      "    dataframe['time'] = 12*dataframe['year']+dataframe['month']\n",
      "    return dataframe\n",
      "df_mod=modify(df_mod)        \n",
      "df_mod"
     ],
     "language": "python",
     "metadata": {},
     "outputs": [
      {
       "html": [
        "<pre>\n",
        "&lt;class 'pandas.core.frame.DataFrame'&gt;\n",
        "Int64Index: 7815 entries, 0 to 7814\n",
        "Data columns (total 6 columns):\n",
        "module_category       7815  non-null values\n",
        "component_category    7815  non-null values\n",
        "year                  7815  non-null values\n",
        "month                 7815  non-null values\n",
        "number_repair         7815  non-null values\n",
        "time                  7815  non-null values\n",
        "dtypes: int64(4), object(2)\n",
        "</pre>"
       ],
       "metadata": {},
       "output_type": "pyout",
       "prompt_number": 78,
       "text": [
        "<class 'pandas.core.frame.DataFrame'>\n",
        "Int64Index: 7815 entries, 0 to 7814\n",
        "Data columns (total 6 columns):\n",
        "module_category       7815  non-null values\n",
        "component_category    7815  non-null values\n",
        "year                  7815  non-null values\n",
        "month                 7815  non-null values\n",
        "number_repair         7815  non-null values\n",
        "time                  7815  non-null values\n",
        "dtypes: int64(4), object(2)"
       ]
      }
     ],
     "prompt_number": 78
    },
    {
     "cell_type": "code",
     "collapsed": false,
     "input": [
      "x = df_mod[(df_mod['module_category']=='M1') & (df_mod['component_category']=='P10')]\n",
      "x.groupby('months').size()"
     ],
     "language": "python",
     "metadata": {},
     "outputs": [
      {
       "metadata": {},
       "output_type": "pyout",
       "prompt_number": 36,
       "text": [
        "months    True\n",
        "dtype: bool"
       ]
      }
     ],
     "prompt_number": 36
    },
    {
     "cell_type": "code",
     "collapsed": false,
     "input": [
      "p0 = [1., 0., 1.]    \n",
      "def gauss(x, *p):\n",
      "    A, mu, sigma = p\n",
      "    return A*np.exp(-(x-mu)**2/(2.*sigma**2))\n",
      "\n",
      "\n",
      "def model_returner(train):    \n",
      "    models = {}\n",
      "    bad_models ={}\n",
      "    mods = train['module_category'].unique()\n",
      "    for each_mod in mods:\n",
      "        cats = train[train['module_category']==each_mod]['component_category'].unique()\n",
      "        for each_cat in cats:\n",
      "            new_data = train[(train['module_category']==each_mod) \\\n",
      "                    & (train['component_category']==each_cat)]\n",
      "            if new_data.shape[0] <= 3:\n",
      "                \n",
      "                bad_models[(each_mod,each_cat)] = [1,1,1]\n",
      "                #print each_mod,each_cat, \"let's adjust this\"\n",
      "            else:\n",
      "                try:\n",
      "                    coeff, var_matrix = curve_fit(gauss, np.array(new_data['time']),\\\n",
      "                            np.array(new_data['number_repair']), p0=p0)\n",
      "                    models[(each_mod,each_cat)] = coeff\n",
      "                except RuntimeError:\n",
      "                    \n",
      "                    bad_models[(each_mod,each_cat)] = [each_mod,each_cat]\n",
      "                    #print each_mod,each_cat, \"let's adjust this because no good fit found\"\n",
      "            models[(each_mod,each_cat)] = coeff\n",
      "            #print each_mod,each_cat\n",
      "    return models,bad_models\n",
      "\n",
      "    "
     ],
     "language": "python",
     "metadata": {},
     "outputs": [],
     "prompt_number": 397
    },
    {
     "cell_type": "code",
     "collapsed": false,
     "input": [
      "df_mod2 = df.sum()\n",
      "df_mod2 = modifys(df_mod2)\n",
      "##use modifys\n",
      "#df_mod2[(df_mod2['module_category']=='M1') & (df_mod2['component_category']=='P02')].shape\n",
      "#df_mod2[(df_mod2['module_category']=='M1') & (df_mod2['component_category']=='P10')].shape"
     ],
     "language": "python",
     "metadata": {},
     "outputs": [],
     "prompt_number": 398
    },
    {
     "cell_type": "code",
     "collapsed": false,
     "input": [
      "my_models = model_returner(df_mod2)"
     ],
     "language": "python",
     "metadata": {},
     "outputs": [],
     "prompt_number": 399
    },
    {
     "cell_type": "code",
     "collapsed": false,
     "input": [
      "g = df_mod2[(df_mod2['module_category']=='M2') & (df_mod2['component_category']=='P27')]\n",
      "plt.plot(g['time'],g['number_repair'])\n",
      "plt.show()"
     ],
     "language": "python",
     "metadata": {},
     "outputs": [],
     "prompt_number": 167
    },
    {
     "cell_type": "code",
     "collapsed": false,
     "input": [
      "mapper2 = pd.read_csv('Output_TargetID_Mapping.csv')\n"
     ],
     "language": "python",
     "metadata": {},
     "outputs": [],
     "prompt_number": 400
    },
    {
     "cell_type": "code",
     "collapsed": false,
     "input": [
      "gg = df_mod2[(df_mod2['module_category']=='M4') & (df_mod2['component_category']=='P04')]"
     ],
     "language": "python",
     "metadata": {},
     "outputs": [],
     "prompt_number": 401
    },
    {
     "cell_type": "code",
     "collapsed": false,
     "input": [
      "mapper2=modifys(mapper2)"
     ],
     "language": "python",
     "metadata": {},
     "outputs": [],
     "prompt_number": 402
    },
    {
     "cell_type": "code",
     "collapsed": false,
     "input": [
      "key = my_models[0][('M4','P04')]\n",
      "x1,x2,x3=key\n",
      "#gg['predictions'] = x1*np.exp(-(gg['time'] - x2)**2/(2.*x3**2))\n",
      "#gg['predictions'].round()"
     ],
     "language": "python",
     "metadata": {},
     "outputs": [],
     "prompt_number": 308
    },
    {
     "cell_type": "code",
     "collapsed": false,
     "input": [
      "def predictions(dataframe,models):\n",
      "    \"\"\"we assume model has been trained; \n",
      "    we also assume that the mapper has been under modifys\"\"\"\n",
      "    mods = dataframe['module_category'].unique()\n",
      "    \n",
      "    h = dataframe\n",
      "    preds = []\n",
      "    for i in h.iterrows():\n",
      "        mod = i[1]['module_category']\n",
      "        cat = i[1]['component_category']\n",
      "        key = (mod,cat)\n",
      "        if key in models[0]:\n",
      "            A,mu,sigma = models[0][key]\n",
      "            \n",
      "            preds += [int(round(float(A*np.exp(-((i[1]['time'])-mu)**2/(2.*sigma**2)))))]\n",
      "        else:\n",
      "            preds +=[5]\n",
      "    return preds\n",
      "    \"\"\"\n",
      "    #for each_mod in mods:\n",
      "    #    cats = dataframe[dataframe['module_category']==each_mod]['component_category'].unique()\n",
      "    #    for each_cat in cats:\n",
      "    #        key =(each_mod,each_cat)\n",
      "    #        if key in models[0]:\n",
      "                A,mu,sigma = models[0][key]\n",
      "                \n",
      "                #A*np.exp(-(x-mu)**2/(2.*sigma**2))\n",
      "                #dataframe[(dataframe['module_category']==each_mod) \\\n",
      "                 #   & (dataframe['component_category']==each_cat)]['predictions'] = \\\n",
      "                #dataframe[(dataframe['module_category']==each_mod) \n",
      "                #          & (dataframe['component_category']==each_cat)]['predictions']= \\\n",
      "                x = A*np.exp(-(dataframe[(dataframe['module_category']==each_mod) \n",
      "                    & (dataframe['component_category']==each_cat)]['time'] - mu)**2/(2.*sigma**2))\n",
      "                print x\n",
      "                dataframe[(dataframe['module_category']==each_mod) & (dataframe['component_category']==each_cat)] = x\n",
      "                \n",
      "    dataframe['predictions']=dataframe['predictions'].round()\n",
      "    return dataframe\"\"\"\n",
      "                "
     ],
     "language": "python",
     "metadata": {},
     "outputs": [],
     "prompt_number": 346
    },
    {
     "cell_type": "code",
     "collapsed": false,
     "input": [
      "please = predictions(mapper2,my_models)\n"
     ],
     "language": "python",
     "metadata": {},
     "outputs": [],
     "prompt_number": 347
    },
    {
     "cell_type": "code",
     "collapsed": false,
     "input": [
      "please=np.array(please)"
     ],
     "language": "python",
     "metadata": {},
     "outputs": [],
     "prompt_number": 350
    },
    {
     "cell_type": "code",
     "collapsed": false,
     "input": [
      "hes = pd.DataFrame(please)"
     ],
     "language": "python",
     "metadata": {},
     "outputs": [],
     "prompt_number": 351
    },
    {
     "cell_type": "code",
     "collapsed": false,
     "input": [
      "hes.columns = ['target']"
     ],
     "language": "python",
     "metadata": {},
     "outputs": [],
     "prompt_number": 356
    },
    {
     "cell_type": "code",
     "collapsed": false,
     "input": [
      "hes.to_csv('wtf.csv',sep=',')"
     ],
     "language": "python",
     "metadata": {},
     "outputs": [],
     "prompt_number": 361
    },
    {
     "cell_type": "code",
     "collapsed": false,
     "input": [
      "hes.mean()"
     ],
     "language": "python",
     "metadata": {},
     "outputs": [
      {
       "metadata": {},
       "output_type": "pyout",
       "prompt_number": 362,
       "text": [
        "target    5.730263\n",
        "dtype: float64"
       ]
      }
     ],
     "prompt_number": 362
    },
    {
     "cell_type": "code",
     "collapsed": false,
     "input": [
      "hes"
     ],
     "language": "python",
     "metadata": {},
     "outputs": [
      {
       "html": [
        "<pre>\n",
        "&lt;class 'pandas.core.frame.DataFrame'&gt;\n",
        "Int64Index: 4256 entries, 0 to 4255\n",
        "Data columns (total 1 columns):\n",
        "target    4256  non-null values\n",
        "dtypes: int32(1)\n",
        "</pre>"
       ],
       "metadata": {},
       "output_type": "pyout",
       "prompt_number": 363,
       "text": [
        "<class 'pandas.core.frame.DataFrame'>\n",
        "Int64Index: 4256 entries, 0 to 4255\n",
        "Data columns (total 1 columns):\n",
        "target    4256  non-null values\n",
        "dtypes: int32(1)"
       ]
      }
     ],
     "prompt_number": 363
    },
    {
     "cell_type": "code",
     "collapsed": false,
     "input": [
      "hes[hes['target']==0] = 3"
     ],
     "language": "python",
     "metadata": {},
     "outputs": [],
     "prompt_number": 365
    },
    {
     "cell_type": "code",
     "collapsed": false,
     "input": [
      "hes.mean()\n",
      "x=hes"
     ],
     "language": "python",
     "metadata": {},
     "outputs": [],
     "prompt_number": 375
    },
    {
     "cell_type": "code",
     "collapsed": false,
     "input": [
      "x[hes['target']>=150] /= 3"
     ],
     "language": "python",
     "metadata": {},
     "outputs": [],
     "prompt_number": 376
    },
    {
     "cell_type": "code",
     "collapsed": false,
     "input": [
      "x[hes['target']>=150]-=35"
     ],
     "language": "python",
     "metadata": {},
     "outputs": [],
     "prompt_number": 383
    },
    {
     "cell_type": "code",
     "collapsed": false,
     "input": [
      "x.to_csv('im_sleeping.csv',sep=',')"
     ],
     "language": "python",
     "metadata": {},
     "outputs": [],
     "prompt_number": 391
    },
    {
     "cell_type": "code",
     "collapsed": false,
     "input": [
      "x.shape"
     ],
     "language": "python",
     "metadata": {},
     "outputs": [
      {
       "metadata": {},
       "output_type": "pyout",
       "prompt_number": 388,
       "text": [
        "(4256, 1)"
       ]
      }
     ],
     "prompt_number": 388
    },
    {
     "cell_type": "code",
     "collapsed": false,
     "input": [
      "x['target'][4255]"
     ],
     "language": "python",
     "metadata": {},
     "outputs": [
      {
       "metadata": {},
       "output_type": "pyout",
       "prompt_number": 395,
       "text": [
        "3"
       ]
      }
     ],
     "prompt_number": 395
    },
    {
     "cell_type": "code",
     "collapsed": false,
     "input": [
      "my_models[1]"
     ],
     "language": "python",
     "metadata": {},
     "outputs": [
      {
       "metadata": {},
       "output_type": "pyout",
       "prompt_number": 396,
       "text": [
        "{('M1', 'P10'): ['M1', 'P10'],\n",
        " ('M1', 'P25'): ['M1', 'P25'],\n",
        " ('M1', 'P27'): ['M1', 'P27'],\n",
        " ('M2', 'P07'): ['M2', 'P07'],\n",
        " ('M2', 'P08'): ['M2', 'P08'],\n",
        " ('M2', 'P10'): ['M2', 'P10'],\n",
        " ('M2', 'P14'): ['M2', 'P14'],\n",
        " ('M2', 'P27'): ['M2', 'P27'],\n",
        " ('M2', 'P29'): ['M2', 'P29'],\n",
        " ('M3', 'P01'): ['M3', 'P01'],\n",
        " ('M3', 'P03'): ['M3', 'P03'],\n",
        " ('M3', 'P10'): ['M3', 'P10'],\n",
        " ('M3', 'P18'): ['M3', 'P18'],\n",
        " ('M3', 'P23'): ['M3', 'P23'],\n",
        " ('M3', 'P27'): ['M3', 'P27'],\n",
        " ('M4', 'P27'): ['M4', 'P27'],\n",
        " ('M5', 'P01'): ['M5', 'P01'],\n",
        " ('M5', 'P22'): ['M5', 'P22'],\n",
        " ('M5', 'P27'): ['M5', 'P27'],\n",
        " ('M6', 'P01'): ['M6', 'P01'],\n",
        " ('M6', 'P03'): ['M6', 'P03'],\n",
        " ('M6', 'P10'): ['M6', 'P10'],\n",
        " ('M6', 'P11'): ['M6', 'P11'],\n",
        " ('M6', 'P27'): ['M6', 'P27'],\n",
        " ('M7', 'P01'): ['M7', 'P01'],\n",
        " ('M7', 'P27'): ['M7', 'P27'],\n",
        " ('M8', 'P10'): ['M8', 'P10'],\n",
        " ('M8', 'P27'): ['M8', 'P27'],\n",
        " ('M9', 'P23'): ['M9', 'P23']}"
       ]
      }
     ],
     "prompt_number": 396
    },
    {
     "cell_type": "code",
     "collapsed": false,
     "input": [],
     "language": "python",
     "metadata": {},
     "outputs": []
    }
   ],
   "metadata": {}
  }
 ]
}