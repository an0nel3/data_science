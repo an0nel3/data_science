{
 "metadata": {
  "name": ""
 },
 "nbformat": 3,
 "nbformat_minor": 0,
 "worksheets": [
  {
   "cells": [
    {
     "cell_type": "code",
     "collapsed": false,
     "input": [
      "import csv as csv\n",
      "import numpy as np\n",
      "import time,timeit\n",
      "\n",
      "import pandas as pd\n",
      "import matplotlib.pyplot as plt\n",
      "\n"
     ],
     "language": "python",
     "metadata": {},
     "outputs": [],
     "prompt_number": "*"
    },
    {
     "cell_type": "code",
     "collapsed": false,
     "input": [
      "repairs = pd.read_csv('RepairTrain.csv')\n"
     ],
     "language": "python",
     "metadata": {},
     "outputs": [],
     "prompt_number": 271
    },
    {
     "cell_type": "code",
     "collapsed": false,
     "input": [
      "def month_and_years(df,column):\n",
      "    years = []\n",
      "    months = []\n",
      "    ym_sale = pd.to_datetime(df[column])\n",
      "    for each_tuple in ym_sale:\n",
      "        years.append(each_tuple.year)\n",
      "        months.append(each_tuple.month)\n",
      "    return years,months\n",
      "year_sale,month_sale = month_and_years(repairs,\"year/month(sale)\")\n",
      "year_repair,month_repair = month_and_years(repairs,\"year/month(repair)\")\n"
     ],
     "language": "python",
     "metadata": {},
     "outputs": [],
     "prompt_number": 143
    },
    {
     "cell_type": "code",
     "collapsed": false,
     "input": [
      "data_frame = repairs[['module_category','component_category','number_repair']]\n",
      "#data_frame['year_sale'] = year_sale\n",
      "#data_frame['month_sale'] = month_sale\n",
      "data_frame['year'] = year_repair\n",
      "data_frame['month'] = month_repair\n",
      "df       = data_frame.groupby(['module_category','component_category','year','month', \\\n",
      "                               ],as_index = False)\n",
      "df_mod   = df.sum()"
     ],
     "language": "python",
     "metadata": {},
     "outputs": [],
     "prompt_number": 163
    },
    {
     "cell_type": "code",
     "collapsed": false,
     "input": [
      "#hehe = repairs.groupby(['module_category','component_category','year/month(sale)','year/month(repair)'],as_index=False)\n",
      "#haha = hehe.sum()\n",
      "df_mod.iloc[:2]"
     ],
     "language": "python",
     "metadata": {},
     "outputs": [
      {
       "html": [
        "<div style=\"max-height:1000px;max-width:1500px;overflow:auto;\">\n",
        "<table border=\"1\" class=\"dataframe\">\n",
        "  <thead>\n",
        "    <tr style=\"text-align: right;\">\n",
        "      <th></th>\n",
        "      <th>module_category</th>\n",
        "      <th>component_category</th>\n",
        "      <th>year_repair</th>\n",
        "      <th>month_repair</th>\n",
        "      <th>number_repair</th>\n",
        "    </tr>\n",
        "  </thead>\n",
        "  <tbody>\n",
        "    <tr>\n",
        "      <th>0</th>\n",
        "      <td> M1</td>\n",
        "      <td> P02</td>\n",
        "      <td> 2006</td>\n",
        "      <td> 6</td>\n",
        "      <td> 1</td>\n",
        "    </tr>\n",
        "    <tr>\n",
        "      <th>1</th>\n",
        "      <td> M1</td>\n",
        "      <td> P02</td>\n",
        "      <td> 2006</td>\n",
        "      <td> 7</td>\n",
        "      <td> 3</td>\n",
        "    </tr>\n",
        "  </tbody>\n",
        "</table>\n",
        "</div>"
       ],
       "metadata": {},
       "output_type": "pyout",
       "prompt_number": 180,
       "text": [
        "  module_category component_category  year_repair  month_repair  number_repair\n",
        "0              M1                P02         2006             6              1\n",
        "1              M1                P02         2006             7              3"
       ]
      }
     ],
     "prompt_number": 180
    },
    {
     "cell_type": "code",
     "collapsed": false,
     "input": [
      "df_mod.to_csv('modded.csv',index=False,header=True, sep=',')"
     ],
     "language": "python",
     "metadata": {},
     "outputs": [],
     "prompt_number": 181
    },
    {
     "cell_type": "code",
     "collapsed": false,
     "input": [
      "df_mod['component_category'].unique()\n",
      "#df_mod['module_category'].unique()\n"
     ],
     "language": "python",
     "metadata": {},
     "outputs": [
      {
       "metadata": {},
       "output_type": "pyout",
       "prompt_number": 185,
       "text": [
        "array(['P02', 'P04', 'P05', 'P06', 'P09', 'P10', 'P11', 'P12', 'P13',\n",
        "       'P15', 'P16', 'P17', 'P19', 'P20', 'P21', 'P22', 'P24', 'P25',\n",
        "       'P26', 'P27', 'P28', 'P30', 'P31', 'P01', 'P07', 'P08', 'P14',\n",
        "       'P29', 'P03', 'P18', 'P23'], dtype=object)"
       ]
      }
     ],
     "prompt_number": 185
    },
    {
     "cell_type": "code",
     "collapsed": false,
     "input": [
      "df_mod['year_repair'].max()"
     ],
     "language": "python",
     "metadata": {},
     "outputs": [
      {
       "metadata": {},
       "output_type": "pyout",
       "prompt_number": 189,
       "text": [
        "2009"
       ]
      }
     ],
     "prompt_number": 189
    },
    {
     "cell_type": "code",
     "collapsed": false,
     "input": [
      "mini=df_mod[df_mod['module_category'] == \"M6\"]"
     ],
     "language": "python",
     "metadata": {},
     "outputs": [
      {
       "html": [
        "<pre>\n",
        "&lt;class 'pandas.core.frame.DataFrame'&gt;\n",
        "Int64Index: 588 entries, 4213 to 4800\n",
        "Data columns (total 5 columns):\n",
        "module_category       588  non-null values\n",
        "component_category    588  non-null values\n",
        "year_repair           588  non-null values\n",
        "month_repair          588  non-null values\n",
        "number_repair         588  non-null values\n",
        "dtypes: int64(3), object(2)\n",
        "</pre>"
       ],
       "metadata": {},
       "output_type": "pyout",
       "prompt_number": 214,
       "text": [
        "<class 'pandas.core.frame.DataFrame'>\n",
        "Int64Index: 588 entries, 4213 to 4800\n",
        "Data columns (total 5 columns):\n",
        "module_category       588  non-null values\n",
        "component_category    588  non-null values\n",
        "year_repair           588  non-null values\n",
        "month_repair          588  non-null values\n",
        "number_repair         588  non-null values\n",
        "dtypes: int64(3), object(2)"
       ]
      }
     ],
     "prompt_number": 214
    },
    {
     "cell_type": "code",
     "collapsed": false,
     "input": [
      "#mini['year_repair']-=-2009"
     ],
     "language": "python",
     "metadata": {},
     "outputs": [],
     "prompt_number": 204
    },
    {
     "cell_type": "code",
     "collapsed": false,
     "input": [
      "mini.iloc[4]"
     ],
     "language": "python",
     "metadata": {},
     "outputs": [
      {
       "metadata": {},
       "output_type": "pyout",
       "prompt_number": 210,
       "text": [
        "module_category         M6\n",
        "component_category     P02\n",
        "year_repair           2007\n",
        "month_repair             9\n",
        "number_repair            1\n",
        "Name: 4217, dtype: object"
       ]
      }
     ],
     "prompt_number": 210
    },
    {
     "cell_type": "code",
     "collapsed": false,
     "input": [
      "mini['year_repair']-=2007"
     ],
     "language": "python",
     "metadata": {},
     "outputs": [],
     "prompt_number": 217
    },
    {
     "cell_type": "code",
     "collapsed": false,
     "input": [
      "mini['news'] =mini['year_repair']*12+mini['month_repair']"
     ],
     "language": "python",
     "metadata": {},
     "outputs": [],
     "prompt_number": 219
    },
    {
     "cell_type": "code",
     "collapsed": false,
     "input": [
      "#plt.plot_date(np.array(mini['news']),np.array(mini['number_repair']), xdate=True)\n",
      "#plt.xlabel('dates')\n",
      "#plt.ylabel('number of repairs')\n"
     ],
     "language": "python",
     "metadata": {},
     "outputs": [],
     "prompt_number": 241
    },
    {
     "cell_type": "code",
     "collapsed": false,
     "input": [
      "mini[mini['number_repair']==1870]"
     ],
     "language": "python",
     "metadata": {},
     "outputs": [
      {
       "html": [
        "<div style=\"max-height:1000px;max-width:1500px;overflow:auto;\">\n",
        "<table border=\"1\" class=\"dataframe\">\n",
        "  <thead>\n",
        "    <tr style=\"text-align: right;\">\n",
        "      <th></th>\n",
        "      <th>module_category</th>\n",
        "      <th>component_category</th>\n",
        "      <th>year_repair</th>\n",
        "      <th>month_repair</th>\n",
        "      <th>number_repair</th>\n",
        "      <th>news</th>\n",
        "    </tr>\n",
        "  </thead>\n",
        "  <tbody>\n",
        "    <tr>\n",
        "      <th>4475</th>\n",
        "      <td> M6</td>\n",
        "      <td> P16</td>\n",
        "      <td> 2</td>\n",
        "      <td> 8</td>\n",
        "      <td> 1870</td>\n",
        "      <td> 32</td>\n",
        "    </tr>\n",
        "  </tbody>\n",
        "</table>\n",
        "</div>"
       ],
       "metadata": {},
       "output_type": "pyout",
       "prompt_number": 250,
       "text": [
        "     module_category component_category  year_repair  month_repair  \\\n",
        "4475              M6                P16            2             8   \n",
        "\n",
        "      number_repair  news  \n",
        "4475           1870    32  "
       ]
      }
     ],
     "prompt_number": 250
    },
    {
     "cell_type": "code",
     "collapsed": false,
     "input": [
      "mods = df_mod['module_category'].unique()\n",
      "mods\n"
     ],
     "language": "python",
     "metadata": {},
     "outputs": [
      {
       "metadata": {},
       "output_type": "pyout",
       "prompt_number": 270,
       "text": [
        "array(['M1', 'M2', 'M3', 'M4', 'M5', 'M6', 'M7', 'M8', 'M9'], dtype=object)"
       ]
      }
     ],
     "prompt_number": 270
    },
    {
     "cell_type": "code",
     "collapsed": false,
     "input": [
      "for each_mod in mods:\n",
      "    cats = df_mod[df_mod['module_category']==each]['component_category'].unique()\n",
      "    for each cat in cats:\n",
      "        data = df_mod[(df_mod['module_category']==each) & (df_mod['component_category']==cat)]\n",
      "        data = modded(data)"
     ],
     "language": "python",
     "metadata": {},
     "outputs": [
      {
       "output_type": "stream",
       "stream": "stdout",
       "text": [
        "['P02' 'P04' 'P05' 'P06' 'P09' 'P10' 'P11' 'P12' 'P13' 'P15' 'P16' 'P17'\n",
        " 'P19' 'P20' 'P21' 'P22' 'P24' 'P25' 'P26' 'P27' 'P28' 'P30' 'P31']\n",
        "['P02' 'P04' 'P05' 'P06' 'P09' 'P10' 'P11' 'P12' 'P13' 'P15' 'P16' 'P17'\n",
        " 'P19' 'P20' 'P21' 'P22' 'P24' 'P25' 'P26' 'P27' 'P28' 'P30' 'P31']\n",
        "['P02' 'P04' 'P05' 'P06' 'P09' 'P10' 'P11' 'P12' 'P13' 'P15' 'P16' 'P17'\n",
        " 'P19' 'P20' 'P21' 'P22' 'P24' 'P25' 'P26' 'P27' 'P28' 'P30' 'P31']\n",
        "['P02' 'P04' 'P05' 'P06' 'P09' 'P10' 'P11' 'P12' 'P13' 'P15' 'P16' 'P17'\n",
        " 'P19' 'P20' 'P21' 'P22' 'P24' 'P25' 'P26' 'P27' 'P28' 'P30' 'P31']\n",
        "['P02' 'P04' 'P05' 'P06' 'P09' 'P10' 'P11' 'P12' 'P13' 'P15' 'P16' 'P17'\n",
        " 'P19' 'P20' 'P21' 'P22' 'P24' 'P25' 'P26' 'P27' 'P28' 'P30' 'P31']\n",
        "['P02' 'P04' 'P05' 'P06' 'P09' 'P10' 'P11' 'P12' 'P13' 'P15' 'P16' 'P17'\n",
        " 'P19' 'P20' 'P21' 'P22' 'P24' 'P25' 'P26' 'P27' 'P28' 'P30' 'P31']\n",
        "['P02' 'P04' 'P05' 'P06' 'P09' 'P10' 'P11' 'P12' 'P13' 'P15' 'P16' 'P17'\n",
        " 'P19' 'P20' 'P21' 'P22' 'P24' 'P25' 'P26' 'P27' 'P28' 'P30' 'P31']\n",
        "['P02' 'P04' 'P05' 'P06' 'P09' 'P10' 'P11' 'P12' 'P13' 'P15' 'P16' 'P17'\n",
        " 'P19' 'P20' 'P21' 'P22' 'P24' 'P25' 'P26' 'P27' 'P28' 'P30' 'P31']\n",
        "['P02' 'P04' 'P05' 'P06' 'P09' 'P10' 'P11' 'P12' 'P13' 'P15' 'P16' 'P17'\n",
        " 'P19' 'P20' 'P21' 'P22' 'P24' 'P25' 'P26' 'P27' 'P28' 'P30' 'P31']\n"
       ]
      }
     ],
     "prompt_number": 267
    },
    {
     "cell_type": "code",
     "collapsed": false,
     "input": [],
     "language": "python",
     "metadata": {},
     "outputs": []
    }
   ],
   "metadata": {}
  }
 ]
}