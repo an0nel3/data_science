{
 "metadata": {
  "name": ""
 },
 "nbformat": 3,
 "nbformat_minor": 0,
 "worksheets": [
  {
   "cells": [
    {
     "cell_type": "code",
     "collapsed": false,
     "input": [
      "%matplotlib inline\n",
      "import csv as csv\n",
      "import numpy as np\n",
      "import time,timeit\n",
      "from scipy.optimize import curve_fit\n",
      "import pandas as pd\n",
      "import matplotlib.pyplot as plt\n",
      "\n",
      "\n",
      "repairs = pd.read_csv('RepairTrain.csv')\n",
      "def month_and_years(df,column):\n",
      "    years = []\n",
      "    months = []\n",
      "    ym_sale = pd.to_datetime(df[column])\n",
      "    for each_tuple in ym_sale:\n",
      "        years.append(each_tuple.year)\n",
      "        months.append(each_tuple.month)\n",
      "    return years,months\n",
      "    \n",
      "year_repair,month_repair = month_and_years(repairs,\"year/month(repair)\")\n",
      "data_frame = repairs[['module_category','component_category','number_repair']]\n",
      "data_frame['year'] = year_repair\n",
      "data_frame['month'] = month_repair\n",
      "df       = data_frame.groupby(['module_category','component_category','year','month', \\\n",
      "                               ],as_index = False)\n",
      "df_mod   = df.sum()"
     ],
     "language": "python",
     "metadata": {},
     "outputs": [],
     "prompt_number": 2
    },
    {
     "cell_type": "code",
     "collapsed": false,
     "input": [
      "def modifys(dataframe,flag=0):\n",
      "    \"\"\"group by mod and by component if flag =0; the default\n",
      "    is to modify by each both!\"\"\"\n",
      "    dataframe['time'] = 12*(dataframe['year']-2008)+dataframe['month']\n",
      "    return dataframe\n",
      "        "
     ],
     "language": "python",
     "metadata": {},
     "outputs": [],
     "prompt_number": 3
    },
    {
     "cell_type": "code",
     "collapsed": false,
     "input": [
      "\n",
      "def modify(dataframe,flag=0):\n",
      "    \"\"\"group by mod and by component if flag =0; the default\n",
      "    is to modify by each both!\"\"\"\n",
      "    dataframe['time'] = 12*dataframe['year']+dataframe['month']\n",
      "    return dataframe\n",
      "df_mod=modify(df_mod)        \n",
      "df_mod"
     ],
     "language": "python",
     "metadata": {},
     "outputs": [
      {
       "html": [
        "<pre>\n",
        "&lt;class 'pandas.core.frame.DataFrame'&gt;\n",
        "Int64Index: 7815 entries, 0 to 7814\n",
        "Data columns (total 6 columns):\n",
        "module_category       7815  non-null values\n",
        "component_category    7815  non-null values\n",
        "year                  7815  non-null values\n",
        "month                 7815  non-null values\n",
        "number_repair         7815  non-null values\n",
        "time                  7815  non-null values\n",
        "dtypes: int64(4), object(2)\n",
        "</pre>"
       ],
       "metadata": {},
       "output_type": "pyout",
       "prompt_number": 4,
       "text": [
        "<class 'pandas.core.frame.DataFrame'>\n",
        "Int64Index: 7815 entries, 0 to 7814\n",
        "Data columns (total 6 columns):\n",
        "module_category       7815  non-null values\n",
        "component_category    7815  non-null values\n",
        "year                  7815  non-null values\n",
        "month                 7815  non-null values\n",
        "number_repair         7815  non-null values\n",
        "time                  7815  non-null values\n",
        "dtypes: int64(4), object(2)"
       ]
      }
     ],
     "prompt_number": 4
    },
    {
     "cell_type": "code",
     "collapsed": false,
     "input": [
      "p0 = [1., 0., 1.]    \n",
      "def gauss(x, *p):\n",
      "    A, mu, sigma = p\n",
      "    return A*np.exp(-(x-mu)**2/(2.*sigma**2))\n",
      "\n",
      "\n",
      "def model_returner(train):    \n",
      "    models = {}\n",
      "    bad_models ={}\n",
      "    mods = train['module_category'].unique()\n",
      "    for each_mod in mods:\n",
      "        cats = train[train['module_category']==each_mod]['component_category'].unique()\n",
      "        for each_cat in cats:\n",
      "            new_data = train[(train['module_category']==each_mod) \\\n",
      "                    & (train['component_category']==each_cat)]\n",
      "            if new_data.shape[0] <= 3:\n",
      "                \n",
      "                bad_models[(each_mod,each_cat)] = [1,1,1]\n",
      "                #print each_mod,each_cat, \"let's adjust this\"\n",
      "            else:\n",
      "                try:\n",
      "                    coeff, var_matrix = curve_fit(gauss, np.array(new_data['time']),\\\n",
      "                            np.array(new_data['number_repair']), p0=p0)\n",
      "                    models[(each_mod,each_cat)] = coeff\n",
      "                except RuntimeError:\n",
      "                    \n",
      "                    bad_models[(each_mod,each_cat)] = [each_mod,each_cat]\n",
      "                    #print each_mod,each_cat, \"let's adjust this because no good fit found\"\n",
      "            \n",
      "            #print each_mod,each_cat\n",
      "    return models,bad_models\n",
      "\n",
      "    "
     ],
     "language": "python",
     "metadata": {},
     "outputs": [],
     "prompt_number": 22
    },
    {
     "cell_type": "code",
     "collapsed": false,
     "input": [
      "df_mod2 = df.sum()\n",
      "df_mod2 = modifys(df_mod2)\n",
      "my_models = model_returner(df_mod2)\n",
      "mapper2 = pd.read_csv('Output_TargetID_Mapping.csv')\n",
      "mapper2=modifys(mapper2)"
     ],
     "language": "python",
     "metadata": {},
     "outputs": [],
     "prompt_number": 23
    },
    {
     "cell_type": "code",
     "collapsed": false,
     "input": [
      "my_models = model_returner(df_mod2)"
     ],
     "language": "python",
     "metadata": {},
     "outputs": [],
     "prompt_number": 8
    },
    {
     "cell_type": "code",
     "collapsed": false,
     "input": [
      "def predictions(dataframe,models):\n",
      "    \"\"\"we assume model has been trained; \n",
      "    we also assume that the mapper has been under modifys\"\"\"\n",
      "    #mods = dataframe['module_category'].unique()\n",
      "    values =dataframe.values\n",
      "    preds = np.zeros(values.shape[0])\n",
      "    for i in xrange(values.shape[0]):\n",
      "        mod = values[i,0]\n",
      "        cat = values[i,1]\n",
      "        key = (mod,cat)\n",
      "        #print key\n",
      "        #key in models[0]\n",
      "        if key in models[0]:\n",
      "            A,mu,sigma = models[0][key]\n",
      "            #if A<25 and A>15:\n",
      "                #print A,sigma\n",
      "            if abs(sigma) < 5:\n",
      "                sigma = 8\n",
      "            if A>100:\n",
      "                A = .7*A\n",
      "                sigma *=1.2\n",
      "            #sigma = 1.4*sigma\n",
      "            #print 'hi'\n",
      "            \n",
      "            preds[i]=A*np.exp(-((values[i,-1]-mu)**2/(2.*sigma**2)))\n",
      "            #print preds\n",
      "        \n",
      "    return preds\n",
      "   "
     ],
     "language": "python",
     "metadata": {},
     "outputs": [],
     "prompt_number": 89
    },
    {
     "cell_type": "code",
     "collapsed": false,
     "input": [
      "def plot_data(models,dataframe,flag = 0):\n",
      "    \"\"\"need good and bad models\"\"\"\n",
      "    if flag == 0:\n",
      "        for key in models[0]:\n",
      "            g=dataframe[(dataframe['module_category']==key[0]) & \\\n",
      "            (dataframe['component_category']==key[1])]\n",
      "            plt.scatter(g['time'],g['number_repair'],c =np.random.rand(3,1))\n",
      "            plt.xlabel(\"Time\")\n",
      "            plt.ylabel(\"number of repairs\")\n",
      "            plt.title(\"%s, and %s\" %(key[0], key[1]))\n",
      "            plt.show()\n",
      "    if flag ==1:\n",
      "        \n",
      "        for key in models[1]:\n",
      "            g=dataframe[(dataframe['module_category']==key[0]) & \\\n",
      "            (dataframe['component_category']==key[1])]\n",
      "            plt.scatter(g['time'],g['number_repair'],c =np.random.rand(3,1))\n",
      "            plt.xlabel(\"Time\")\n",
      "            plt.ylabel(\"number of repairs\")\n",
      "            \n",
      "            if models[1][key] == [1,1,1]:\n",
      "                plt.title(\"too little data: %s, and %s\" %(key[0],key[1]))\n",
      "            else:\n",
      "                plt.title(\"no curve fit: %s, and %s\" %(key[0], key[1]))\n",
      "            plt.show()\n",
      "#plot_data(my_models,df_mod2,flag=1)\n",
      "def plot_each(key,dataframe,models):\n",
      "            g=dataframe[(dataframe['module_category']==key[0]) & \\\n",
      "            (dataframe['component_category']==key[1])]\n",
      "            plt.scatter(g['time'],g['number_repair'],c =np.random.rand(3,1))\n",
      "            plt.xlabel(\"Time\")\n",
      "            plt.ylabel(\"number of repairs\")\n",
      "            \n",
      "            if models[1][key] == [1,1,1]:\n",
      "                plt.title(\"too little data: %s, and %s\" %(key[0],key[1]))\n",
      "            else:\n",
      "                plt.title(\"no curve fit: %s, and %s\" %(key[0], key[1]))\n",
      "            plt.show()\n",
      "#def plot_good(models,dataframe\n",
      "plot_each(('M7','P01'),df_mod2,my_models)"
     ],
     "language": "python",
     "metadata": {},
     "outputs": [
      {
       "metadata": {},
       "output_type": "display_data",
       "png": "[encoded data removed]",
       "text": [
        "<matplotlib.figure.Figure at 0x13746f98>"
       ]
      }
     ],
     "prompt_number": 113
    },
    {
     "cell_type": "code",
     "collapsed": false,
     "input": [
      "my_models[1]"
     ],
     "language": "python",
     "metadata": {},
     "outputs": [
      {
       "metadata": {},
       "output_type": "pyout",
       "prompt_number": 94,
       "text": [
        "{('M1', 'P10'): [1, 1, 1],\n",
        " ('M1', 'P25'): [1, 1, 1],\n",
        " ('M1', 'P27'): [1, 1, 1],\n",
        " ('M2', 'P07'): [1, 1, 1],\n",
        " ('M2', 'P08'): [1, 1, 1],\n",
        " ('M2', 'P10'): [1, 1, 1],\n",
        " ('M2', 'P14'): [1, 1, 1],\n",
        " ('M2', 'P27'): ['M2', 'P27'],\n",
        " ('M2', 'P29'): [1, 1, 1],\n",
        " ('M3', 'P01'): [1, 1, 1],\n",
        " ('M3', 'P03'): [1, 1, 1],\n",
        " ('M3', 'P10'): [1, 1, 1],\n",
        " ('M3', 'P18'): [1, 1, 1],\n",
        " ('M3', 'P23'): [1, 1, 1],\n",
        " ('M3', 'P27'): [1, 1, 1],\n",
        " ('M4', 'P27'): [1, 1, 1],\n",
        " ('M5', 'P01'): [1, 1, 1],\n",
        " ('M5', 'P22'): ['M5', 'P22'],\n",
        " ('M5', 'P27'): [1, 1, 1],\n",
        " ('M6', 'P01'): [1, 1, 1],\n",
        " ('M6', 'P03'): [1, 1, 1],\n",
        " ('M6', 'P10'): ['M6', 'P10'],\n",
        " ('M6', 'P11'): [1, 1, 1],\n",
        " ('M6', 'P27'): [1, 1, 1],\n",
        " ('M7', 'P01'): ['M7', 'P01'],\n",
        " ('M7', 'P27'): [1, 1, 1],\n",
        " ('M8', 'P10'): [1, 1, 1],\n",
        " ('M8', 'P27'): [1, 1, 1],\n",
        " ('M9', 'P23'): [1, 1, 1]}"
       ]
      }
     ],
     "prompt_number": 94
    },
    {
     "cell_type": "code",
     "collapsed": false,
     "input": [
      "preds = predictions(mapper2,my_models)"
     ],
     "language": "python",
     "metadata": {},
     "outputs": [],
     "prompt_number": 90
    },
    {
     "cell_type": "code",
     "collapsed": false,
     "input": [
      "preds.mean()"
     ],
     "language": "python",
     "metadata": {},
     "outputs": [
      {
       "metadata": {},
       "output_type": "pyout",
       "prompt_number": 91,
       "text": [
        "6.0546111138955911"
       ]
      }
     ],
     "prompt_number": 91
    },
    {
     "cell_type": "code",
     "collapsed": false,
     "input": [
      "np.median(preds)"
     ],
     "language": "python",
     "metadata": {},
     "outputs": [
      {
       "metadata": {},
       "output_type": "pyout",
       "prompt_number": 57,
       "text": [
        "0.0055234639197265373"
       ]
      }
     ],
     "prompt_number": 57
    },
    {
     "cell_type": "code",
     "collapsed": false,
     "input": [
      "predsdf=pd.DataFrame(preds,columns=['target'])"
     ],
     "language": "python",
     "metadata": {},
     "outputs": [],
     "prompt_number": 92
    },
    {
     "cell_type": "code",
     "collapsed": false,
     "input": [
      "predsdf.to_csv('v4.csv',header=True,sep=',')"
     ],
     "language": "python",
     "metadata": {},
     "outputs": [],
     "prompt_number": 93
    },
    {
     "cell_type": "code",
     "collapsed": false,
     "input": [
      "x=pd.read_csv('v4.csv')"
     ],
     "language": "python",
     "metadata": {},
     "outputs": [],
     "prompt_number": 117
    },
    {
     "cell_type": "code",
     "collapsed": false,
     "input": [
      "x=x['target'].values"
     ],
     "language": "python",
     "metadata": {},
     "outputs": [],
     "prompt_number": 120
    },
    {
     "cell_type": "code",
     "collapsed": false,
     "input": [
      "x"
     ],
     "language": "python",
     "metadata": {},
     "outputs": [
      {
       "metadata": {},
       "output_type": "pyout",
       "prompt_number": 121,
       "text": [
        "array([  2.71520000e-04,   1.35597000e-04,   6.62000000e-05, ...,\n",
        "         4.40949200e-03,   3.26822800e-03,   2.40782000e-03])"
       ]
      }
     ],
     "prompt_number": 121
    },
    {
     "cell_type": "code",
     "collapsed": false,
     "input": [
      "y=x.round()"
     ],
     "language": "python",
     "metadata": {},
     "outputs": [],
     "prompt_number": 122
    },
    {
     "cell_type": "code",
     "collapsed": false,
     "input": [
      "x"
     ],
     "language": "python",
     "metadata": {},
     "outputs": [
      {
       "metadata": {},
       "output_type": "pyout",
       "prompt_number": 123,
       "text": [
        "array([  2.71520000e-04,   1.35597000e-04,   6.62000000e-05, ...,\n",
        "         4.40949200e-03,   3.26822800e-03,   2.40782000e-03])"
       ]
      }
     ],
     "prompt_number": 123
    },
    {
     "cell_type": "code",
     "collapsed": false,
     "input": [
      "y"
     ],
     "language": "python",
     "metadata": {},
     "outputs": [
      {
       "metadata": {},
       "output_type": "pyout",
       "prompt_number": 124,
       "text": [
        "array([ 0.,  0.,  0., ...,  0.,  0.,  0.])"
       ]
      }
     ],
     "prompt_number": 124
    },
    {
     "cell_type": "code",
     "collapsed": false,
     "input": [
      "y.mean()"
     ],
     "language": "python",
     "metadata": {},
     "outputs": [
      {
       "metadata": {},
       "output_type": "pyout",
       "prompt_number": 125,
       "text": [
        "6.0298402255639099"
       ]
      }
     ],
     "prompt_number": 125
    },
    {
     "cell_type": "code",
     "collapsed": false,
     "input": [
      "y=y.astype(int)\n",
      "y.size"
     ],
     "language": "python",
     "metadata": {},
     "outputs": [
      {
       "metadata": {},
       "output_type": "pyout",
       "prompt_number": 127,
       "text": [
        "4256"
       ]
      }
     ],
     "prompt_number": 127
    },
    {
     "cell_type": "code",
     "collapsed": false,
     "input": [
      "v4 = pd.DataFrame(y,columns=['target'],index = range(1,4257))"
     ],
     "language": "python",
     "metadata": {},
     "outputs": [],
     "prompt_number": 129
    },
    {
     "cell_type": "code",
     "collapsed": false,
     "input": [
      "v4.to_csv('v4.csv',header=True,index=True,sep=',')"
     ],
     "language": "python",
     "metadata": {},
     "outputs": [],
     "prompt_number": 131
    },
    {
     "cell_type": "code",
     "collapsed": false,
     "input": [
      "v4"
     ],
     "language": "python",
     "metadata": {},
     "outputs": [
      {
       "html": [
        "<pre>\n",
        "&lt;class 'pandas.core.frame.DataFrame'&gt;\n",
        "Int64Index: 4256 entries, 1 to 4256\n",
        "Data columns (total 1 columns):\n",
        "target    4256  non-null values\n",
        "dtypes: int32(1)\n",
        "</pre>"
       ],
       "metadata": {},
       "output_type": "pyout",
       "prompt_number": 134,
       "text": [
        "<class 'pandas.core.frame.DataFrame'>\n",
        "Int64Index: 4256 entries, 1 to 4256\n",
        "Data columns (total 1 columns):\n",
        "target    4256  non-null values\n",
        "dtypes: int32(1)"
       ]
      }
     ],
     "prompt_number": 134
    },
    {
     "cell_type": "code",
     "collapsed": false,
     "input": [],
     "language": "python",
     "metadata": {},
     "outputs": []
    }
   ],
   "metadata": {}
  }
 ]
}